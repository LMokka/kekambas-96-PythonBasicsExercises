{
 "cells": [
  {
   "cell_type": "markdown",
   "id": "44be8016",
   "metadata": {},
   "source": [
    "Exercise #1\n",
    "Cube Number Test... Print out all cubed numbers up to the total value 1000. Meaning that if the cubed number is over 1000 break the loop."
   ]
  },
  {
   "cell_type": "code",
   "execution_count": 1,
   "id": "d575e29d",
   "metadata": {},
   "outputs": [
    {
     "name": "stdout",
     "output_type": "stream",
     "text": [
      "0\n",
      "1\n",
      "8\n",
      "27\n",
      "64\n",
      "125\n",
      "216\n",
      "343\n",
      "512\n",
      "729\n",
      "1000\n"
     ]
    }
   ],
   "source": [
    "for i in range(1000):\n",
    "    print (i*i*i)\n",
    "    if i*i*i >= 1000:\n",
    "        break\n",
    "    else:\n",
    "        i = i+1    "
   ]
  },
  {
   "cell_type": "markdown",
   "id": "2a75d8b5",
   "metadata": {},
   "source": [
    "Exercise #2\n",
    "Get first prime numbers up to 100"
   ]
  },
  {
   "cell_type": "code",
   "execution_count": 2,
   "id": "cd5ade3e",
   "metadata": {},
   "outputs": [
    {
     "name": "stdout",
     "output_type": "stream",
     "text": [
      "2\n",
      "3\n",
      "5\n",
      "7\n",
      "11\n",
      "13\n",
      "17\n",
      "19\n",
      "23\n",
      "29\n",
      "31\n",
      "37\n",
      "41\n",
      "43\n",
      "47\n",
      "53\n",
      "59\n",
      "61\n",
      "67\n",
      "71\n",
      "73\n",
      "79\n",
      "83\n",
      "89\n",
      "97\n"
     ]
    }
   ],
   "source": [
    "print(2)\n",
    "print(3)\n",
    "print(5)\n",
    "print(7)\n",
    "print(11)\n",
    "\n",
    "for i in range(3,100):\n",
    "    if i%2 == 0:\n",
    "        i=i+1\n",
    "    elif i%3 == 0:\n",
    "        i=i+1\n",
    "    elif i%5 == 0:\n",
    "        i=i+1\n",
    "    elif i%7 == 0:\n",
    "        i=i+1\n",
    "    elif i%11 ==0:\n",
    "        i=i+1\n",
    "    else:\n",
    "        print(i)"
   ]
  }
 ],
 "metadata": {
  "kernelspec": {
   "display_name": "Python 3",
   "language": "python",
   "name": "python3"
  },
  "language_info": {
   "codemirror_mode": {
    "name": "ipython",
    "version": 3
   },
   "file_extension": ".py",
   "mimetype": "text/x-python",
   "name": "python",
   "nbconvert_exporter": "python",
   "pygments_lexer": "ipython3",
   "version": "3.8.8"
  }
 },
 "nbformat": 4,
 "nbformat_minor": 5
}
